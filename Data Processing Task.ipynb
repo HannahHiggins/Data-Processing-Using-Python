{
 "cells": [
  {
   "cell_type": "markdown",
   "metadata": {},
   "source": [
    "# Data Processing Task using Python"
   ]
  },
  {
   "cell_type": "markdown",
   "metadata": {},
   "source": [
    "I recently undertook a Data Challenge. The aim of the challenge was to practise some basic data processing and answer some questions for 3 data sets. I had 3 data sets:\n",
    "\n",
    "\n",
    "    1. leads.csv. This is a list of fictitious company directors, with some basic data about them and their company.\n",
    "    2. calls.csv. This is a list of fictitious calls made by an outbound call centre. The call centre consists of several agents, who make calls one after the other. They don’t get to choose who to call, the system does. The objective of the call is to get the lead to signup on the website. When they finish a call, they mark down the outcome, from a fixed list of possible outcomes. Note that a single lead may be called multiple times.\n",
    "    3. signups.csv. This is a list of leads who signed up after being called by someone from the call centre. Each signup was risk assessed and either approved or rejected for a loan.\n",
    "\n",
    "I then had some questions I wanted to answer: \n",
    "\n",
    "1.\tWhich agent made the most calls?\n",
    "2.\tFor the leads that received one or more calls, how many calls were received on average?\n",
    "3.\tFor the leads that signed up, how many calls were received, on average?\n",
    "4.\tWhich agent had the most signups? Which assumptions did you make? (note that there is a many-to-one relationship between calls and leads)\n",
    "5.\tWhich agent had the most signups per call?\n",
    "6.\tA lead from which region is most likely to be “interested” in the product?\n",
    "7.\tA lead from which sector is most likely to be “interested” in the product?\n",
    "8.\tGiven a lead has already expressed interest and signed up, \n",
    "a.\tsignups from which region are most likely to be approved?\n",
    "b.\tIs this statistically significant? Why?\n",
    "9.\tSuppose you wanted to pick the 1000 leads most likely to sign up (who have not been called so far), based only on age, sector and region.\n",
    "a.\tWhat criteria would you use to pick those leads?\n",
    "b.\tIn what sense are those an optimal criteria set?\n",
    "c.\tHow many signups would you expect to get based on those called leads, assuming they were being called by random agents?\n",
    "d.\tIf you could choose the agents to make those calls, who would you choose? Why?\n",
    "\n",
    "\n",
    "For this task, I choose to use Python along with pandas, numpy, scipy and statstools.\n",
    "\n",
    "To start off with, I need to read in the csv files, this is easily done with pandas."
   ]
  },
  {
   "cell_type": "code",
   "execution_count": 1,
   "metadata": {},
   "outputs": [],
   "source": [
    "import pandas as pd\n",
    "\n",
    "calls_df = pd.read_csv('calls.csv')\n",
    "leads_df = pd.read_csv('leads.csv')\n",
    "signups_df = pd.read_csv('signups.csv')"
   ]
  },
  {
   "cell_type": "markdown",
   "metadata": {},
   "source": [
    "**Question 1: Which agent made the most calls?**\n",
    " \n",
    "This is easily answered by taking the calls data and looking at the modal value of the agent column"
   ]
  },
  {
   "cell_type": "code",
   "execution_count": 2,
   "metadata": {},
   "outputs": [
    {
     "name": "stdout",
     "output_type": "stream",
     "text": [
      "Phone Number        4.66939e+11\n",
      "Call Outcome    CALL BACK LATER\n",
      "Agent                    orange\n",
      "Call Number                   0\n",
      "Name: 0, dtype: object\n"
     ]
    }
   ],
   "source": [
    "mostCalls = calls_df.mode()\n",
    "print(mostCalls.iloc[0])"
   ]
  },
  {
   "cell_type": "markdown",
   "metadata": {},
   "source": [
    "This gives the answer as Orange\n",
    "\n",
    "**Question 2: For the leads that received one or more calls, how many calls were received on average?**\n",
    "\n",
    "For this question we want to look at our calls data again. \n",
    "\n",
    "We want to exclude the calls that were classed as a 'dead line' as noone received a call here."
   ]
  },
  {
   "cell_type": "code",
   "execution_count": 3,
   "metadata": {},
   "outputs": [],
   "source": [
    "receivedCalls = calls_df[calls_df['Call Outcome'] != 'DEAD LINE']"
   ]
  },
  {
   "cell_type": "markdown",
   "metadata": {},
   "source": [
    "We can then calculate the average amount of calls for the remaining phone numbers"
   ]
  },
  {
   "cell_type": "code",
   "execution_count": 12,
   "metadata": {},
   "outputs": [
    {
     "name": "stdout",
     "output_type": "stream",
     "text": [
      "Average number of calls: 1.893150684931507\n"
     ]
    }
   ],
   "source": [
    "signupCalls = receivedCalls['Phone Number'].value_counts()\n",
    "print(\"Average number of calls: \" + str(signupCalls.mean()))"
   ]
  },
  {
   "cell_type": "markdown",
   "metadata": {},
   "source": [
    "**Question 3 - For the leads that signed up, how many calls were received, on average?**\n",
    "\n",
    "For this question we need to combine our datasets. Before we can do this we need to get the column names to match up - the same data is called Name in one dataset and Lead in another."
   ]
  },
  {
   "cell_type": "code",
   "execution_count": 9,
   "metadata": {},
   "outputs": [],
   "source": [
    "signups_df.columns = ['Name', 'Approval Decision']"
   ]
  },
  {
   "cell_type": "markdown",
   "metadata": {},
   "source": [
    "We can then merge the data:"
   ]
  },
  {
   "cell_type": "code",
   "execution_count": 10,
   "metadata": {},
   "outputs": [],
   "source": [
    "whoCalled = pd.merge(leads_df, signups_df)\n",
    "callsList = pd.merge(whoCalled, calls_df)"
   ]
  },
  {
   "cell_type": "markdown",
   "metadata": {},
   "source": [
    "And take the mean occurance of each phone number:"
   ]
  },
  {
   "cell_type": "code",
   "execution_count": 13,
   "metadata": {},
   "outputs": [
    {
     "name": "stdout",
     "output_type": "stream",
     "text": [
      "Average number of calls: 2.0989583333333335\n"
     ]
    }
   ],
   "source": [
    "callsTotals = callsList['Phone Number'].value_counts()\n",
    "print(\"Average number of calls: \" + str(callsTotals.mean()))"
   ]
  },
  {
   "cell_type": "markdown",
   "metadata": {},
   "source": [
    "**Question 4 - Which agent had the most signups?**\n",
    "\n",
    "For this question we make the assumption that the leads signed up after an ‘interested’ call and the agent who’s call resulted in ‘interested’ deserved the credit for the sign up. \n",
    "\n",
    "We can then look at the occurances of interested and take the modal:"
   ]
  },
  {
   "cell_type": "code",
   "execution_count": 14,
   "metadata": {},
   "outputs": [
    {
     "name": "stdout",
     "output_type": "stream",
     "text": [
      "red       316\n",
      "orange    284\n",
      "green      67\n",
      "blue       52\n",
      "black      49\n",
      "Name: Agent, dtype: int64\n"
     ]
    }
   ],
   "source": [
    "interestedLeads = callsList[callsList['Call Outcome'] == 'INTERESTED']\n",
    "agentCount = interestedLeads['Agent'].value_counts()\n",
    "print(agentCount)"
   ]
  },
  {
   "cell_type": "markdown",
   "metadata": {},
   "source": [
    "The answer is red.\n",
    "\n",
    "**Question 5 - Which agent had the most signups per call? **\n",
    "\n",
    "For this question we need to take the total number of 'interested' calls for each agent (from question 4) and then divide that by the total number of calls they took to get the ratio of signups ber call."
   ]
  },
  {
   "cell_type": "code",
   "execution_count": 15,
   "metadata": {},
   "outputs": [
    {
     "name": "stdout",
     "output_type": "stream",
     "text": [
      "    Agent  Sign Ups  Call Numbers         z\n",
      "0     red       316          1478  0.213802\n",
      "1  orange       284          2234  0.127126\n",
      "2   green        67           339  0.197640\n",
      "3    blue        52           199  0.261307\n",
      "4   black        49           750  0.065333\n"
     ]
    }
   ],
   "source": [
    "totalAgentCalls = calls_df['Agent'].value_counts()\n",
    "agentSignups = pd.DataFrame({'Agent': agentCount.index, 'Sign Ups': agentCount.values})\n",
    "agentCalls = pd.DataFrame({'Agent': totalAgentCalls.index, 'Call Numbers': totalAgentCalls.values})\n",
    "total = pd.merge(agentSignups, agentCalls)\n",
    "total['z'] = total['Sign Ups']/total['Call Numbers']\n",
    "print(total)"
   ]
  },
  {
   "cell_type": "markdown",
   "metadata": {},
   "source": [
    "z gives the signups ratio and from this we can see the agent with the highest signups per call is blue.\n",
    "\n",
    "**Question 6 - A lead from which region is most likely to be “interested” in the product?**\n",
    "\n",
    "For this question we want to look at leads and calls:"
   ]
  },
  {
   "cell_type": "code",
   "execution_count": 16,
   "metadata": {},
   "outputs": [],
   "source": [
    "callsLeadMerge = pd.merge(leads_df, calls_df)"
   ]
  },
  {
   "cell_type": "markdown",
   "metadata": {},
   "source": [
    "We want to take all the 'interested' calls and then take count of the regions:"
   ]
  },
  {
   "cell_type": "code",
   "execution_count": 17,
   "metadata": {},
   "outputs": [
    {
     "name": "stdout",
     "output_type": "stream",
     "text": [
      "north-west          365\n",
      "south-west          161\n",
      "midlands            150\n",
      "north-east          139\n",
      "scotland            137\n",
      "south-east          136\n",
      "south                62\n",
      "london               56\n",
      "wales                50\n",
      "northern-ireland     40\n",
      "Name: Region, dtype: int64\n"
     ]
    }
   ],
   "source": [
    "interested = callsLeadMerge[callsLeadMerge['Call Outcome'] == 'INTERESTED']\n",
    "mostInterestedRegion = interested['Region'].value_counts()\n",
    "print(mostInterestedRegion)"
   ]
  },
  {
   "cell_type": "markdown",
   "metadata": {},
   "source": [
    "Leads from the North-West are most likely to be 'interested' in the product.\n",
    "\n",
    "**Question 7 - A lead from which sector is most likely to be “interested” in the product?**\n",
    "\n",
    "This question follows the same precedure as Question 6:"
   ]
  },
  {
   "cell_type": "code",
   "execution_count": 19,
   "metadata": {},
   "outputs": [
    {
     "name": "stdout",
     "output_type": "stream",
     "text": [
      "consultancy      301\n",
      "retail           290\n",
      "food             261\n",
      "wholesale        233\n",
      "entertainment    135\n",
      "construction      46\n",
      "agriculture       30\n",
      "Name: Sector, dtype: int64\n"
     ]
    }
   ],
   "source": [
    "mostInterestedSector = interested['Sector'].value_counts()\n",
    "print(mostInterestedSector)"
   ]
  },
  {
   "cell_type": "markdown",
   "metadata": {},
   "source": [
    "Giving consultancy as the sector most likely to be interested in the product.\n",
    "\n",
    "**Question 8 a. signups from which region are most likely to be approved?**\n",
    "\n",
    "For this question we want to take a look at all our datasets:"
   ]
  },
  {
   "cell_type": "code",
   "execution_count": 21,
   "metadata": {},
   "outputs": [],
   "source": [
    "callsSignsMerge = pd.merge(callsLeadMerge, signups_df)"
   ]
  },
  {
   "cell_type": "markdown",
   "metadata": {},
   "source": [
    "and then select the data as required:"
   ]
  },
  {
   "cell_type": "code",
   "execution_count": 24,
   "metadata": {},
   "outputs": [
    {
     "name": "stdout",
     "output_type": "stream",
     "text": [
      "north-west          95\n",
      "scotland            37\n",
      "south-east          29\n",
      "midlands            26\n",
      "south-west          25\n",
      "north-east          20\n",
      "south               12\n",
      "northern-ireland     6\n",
      "wales                5\n",
      "london               2\n",
      "Name: Region, dtype: int64\n"
     ]
    }
   ],
   "source": [
    "approved = callsSignsMerge[callsSignsMerge['Approval Decision'] == 'APPROVED']\n",
    "approvedInterested = approved[approved['Call Outcome'] == 'INTERESTED']\n",
    "mostApprovedRegion = approvedInterested['Region'].value_counts()\n",
    "print(mostApprovedRegion)"
   ]
  },
  {
   "cell_type": "markdown",
   "metadata": {},
   "source": [
    "Giving the North-West as the most approved region.\n",
    "\n",
    "**Question 8 b. Is this statistically significant?**\n",
    "\n",
    "This question is more complicated. A great way to predict proabilites of a value being in one of two categories (in this case approved or not approved) is to use a Probit model and from there we can work out whether values from the model are statistically significant or not. \n",
    "\n",
    "The form for our Probit model is going consist of a dependent variable of Approved [1 if True, 0 if False] and independent variables formed of a dummy variable for each region applied to those who signed up:\n",
    "\n",
    "APPROVED = B1 x NORTH-WEST + B2 x SCOTLAND + B3 x SOUTH-EAST + B4 x MIDLANDS + B5 x SOUTH-WEST + B6 x NORTH-EAST + B7 x SOUTH  + B8 x NORTHERN-IRELAND + B9 x WALES + B10 x LONDON\n",
    "\n",
    "We will strip the data of the variables we are not interested in and set up the dummy variables for the variable we are interested in (Region).\n",
    "\n",
    "In order to avoid the 'dummy variable trap' we can either drop one dummy and add an intercept or not add an intercept.\n",
    "\n",
    "I have set up the Probit here as a special case of statsmodel's Generic Likelihood Model as this will give us access to the GLM's summary function which is much better than using statsmodel's own Probit implementation."
   ]
  },
  {
   "cell_type": "code",
   "execution_count": 26,
   "metadata": {},
   "outputs": [
    {
     "name": "stdout",
     "output_type": "stream",
     "text": [
      "Warning: Maximum number of iterations has been exceeded.\n",
      "                               MyProbit Results                               \n",
      "==============================================================================\n",
      "Dep. Variable:               APPROVED   Log-Likelihood:                -132.72\n",
      "Model:                       MyProbit   AIC:                             285.4\n",
      "Method:            Maximum Likelihood   BIC:                             331.9\n",
      "Date:                Mon, 07 May 2018                                         \n",
      "Time:                        12:58:08                                         \n",
      "No. Observations:                 768                                         \n",
      "Df Residuals:                     758                                         \n",
      "Df Model:                           9                                         \n",
      "====================================================================================\n",
      "                       coef    std err          z      P>|z|      [0.025      0.975]\n",
      "------------------------------------------------------------------------------------\n",
      "london               0.0138      0.015      0.906      0.365      -0.016       0.044\n",
      "midlands             0.3572      0.264      1.353      0.176      -0.160       0.875\n",
      "north-east           0.0121      0.005      2.507      0.012       0.003       0.022\n",
      "north-west           0.4681      0.142      3.297      0.001       0.190       0.746\n",
      "northern-ireland     0.0120      0.009      1.395      0.163      -0.005       0.029\n",
      "scotland             0.0115      0.005      2.476      0.013       0.002       0.021\n",
      "south                0.0155      0.034      0.455      0.649      -0.051       0.082\n",
      "south-east           0.4535      0.256      1.772      0.076      -0.048       0.955\n",
      "south-west           0.0139      0.009      1.574      0.116      -0.003       0.031\n",
      "wales                0.0624      0.567      0.110      0.912      -1.048       1.173\n",
      "====================================================================================\n"
     ]
    },
    {
     "name": "stderr",
     "output_type": "stream",
     "text": [
      "D:\\Anaconda\\lib\\site-packages\\statsmodels\\base\\model.py:496: ConvergenceWarning: Maximum Likelihood optimization failed to converge. Check mle_retvals\n",
      "  \"Check mle_retvals\", ConvergenceWarning)\n"
     ]
    }
   ],
   "source": [
    "import numpy as np\n",
    "from statsmodels.base.model import GenericLikelihoodModel\n",
    "from scipy import stats\n",
    "\n",
    "probitData = callsSignsMerge[callsSignsMerge['Call Outcome'] == 'INTERESTED']\n",
    "probitData = pd.concat([probitData, pd.get_dummies(probitData['Approval Decision'])], axis=1)\n",
    "probitData= pd.concat([probitData, pd.get_dummies(probitData['Region'])], axis=1)\n",
    "probitData = probitData.drop('REJECTED', axis=1)\n",
    "probitData = probitData.drop('Approval Decision', axis=1)\n",
    "probitData = probitData.drop('Call Outcome', axis=1)\n",
    "probitData = probitData.drop('Agent', axis=1)\n",
    "probitData = probitData.drop('Call Number', axis=1)\n",
    "probitData = probitData.drop('Name', axis=1)\n",
    "probitData = probitData.drop('Phone Number', axis=1)\n",
    "probitData = probitData.drop('Region', axis=1)\n",
    "probitData = probitData.drop('Sector', axis=1)\n",
    "probitData = probitData.drop('Age', axis=1)\n",
    "y, x = np.split(probitData, [1], axis=1)\n",
    "\n",
    "class MyProbit(GenericLikelihoodModel):\n",
    "    def loglike(self, params):\n",
    "        exog = self.exog\n",
    "        endog = self.endog\n",
    "        q = 2 * endog - 1\n",
    "        return stats.norm.logcdf(q*np.dot(exog, params)).sum()\n",
    "\n",
    "sm_probit_manual = MyProbit(y, x).fit()\n",
    "print(sm_probit_manual.summary())"
   ]
  },
  {
   "cell_type": "markdown",
   "metadata": {},
   "source": [
    "For this question we want to take a look at the overall significance of the model, this is done using an F-Test which is provided by statsmodels:"
   ]
  },
  {
   "cell_type": "code",
   "execution_count": 27,
   "metadata": {},
   "outputs": [
    {
     "name": "stdout",
     "output_type": "stream",
     "text": [
      "<F test: F=array([[3.65526277]]), p=0.0001731007074700851, df_denom=758, df_num=9>\n"
     ]
    }
   ],
   "source": [
    "A = np.identity(len(sm_probit_manual.params))\n",
    "A = A[1:,:]\n",
    "print(sm_probit_manual.f_test(A))"
   ]
  },
  {
   "cell_type": "markdown",
   "metadata": {},
   "source": [
    "The F-test supports overall significance at <1%, \n",
    "\n",
    "The summary output from the Probit supports that the coefficient on North-West is significant at <1%.\n",
    "\n",
    "**Question 9 - Suppose you wanted to pick the 1000 leads most likely to sign up (who have not been called so far), based only on age, sector and region.**\n",
    "\n",
    "**Question 9 a. What criteria would you use to pick those leads?**\n",
    "\n",
    "For this question you would use the set of leads who have already been called to fit a probit model. This model would have a dependent variable of Signed-up [1 if True, 0 if False]. The independent variables will consist of dummy variables for the categorical variables (Sector and Region) with 1 variable of each of these sets dropped (to avoid dummy variable trap), along with Age and an Intercept. Use this model to estimate probabilities for those leads who have not yet been called. The highest 1000 probabilities predicted will be most likely to sign up based on age, sector and region.\n",
    "\n",
    "**Question 9 - b. In what sense are those an optimal criteria set?**\n",
    "\n",
    "The optimal criteria would be given by the coefficitents with the highest probability given by the fitted Probit - that is the highest values.\n",
    "\n",
    "**Questioin 9 c. How many signups would you expect to get based on those called leads, assuming they were being called by random agents?**\n",
    "\n",
    "The calculate this you would take the probability for the top 1000 leads, take the average for this set and then multiply that by 1000 to get the raw value.\n",
    "\n",
    "**Question 9 d. If you could choose the agents to make those calls, who would you choose? Why?**\n",
    "\n",
    "Based on the signups-to-call ratio calculated for Q5 – Blue and Red. However, you could also include the effect of a particular agent on sign up probability in a similar way to part a. - basically use a Probit with dummies for each agent.\n",
    "\n"
   ]
  }
 ],
 "metadata": {
  "kernelspec": {
   "display_name": "Python 3",
   "language": "python",
   "name": "python3"
  },
  "language_info": {
   "codemirror_mode": {
    "name": "ipython",
    "version": 3
   },
   "file_extension": ".py",
   "mimetype": "text/x-python",
   "name": "python",
   "nbconvert_exporter": "python",
   "pygments_lexer": "ipython3",
   "version": "3.6.4"
  }
 },
 "nbformat": 4,
 "nbformat_minor": 2
}
