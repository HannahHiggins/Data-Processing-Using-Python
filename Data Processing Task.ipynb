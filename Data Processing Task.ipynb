{
 "cells": [
  {
   "cell_type": "markdown",
   "metadata": {},
   "source": [
    "# Data Processing Task using Python"
   ]
  },
  {
   "cell_type": "markdown",
   "metadata": {},
   "source": [
    "I recently undertook a Data Challenge. The aim of the challenge was to practise some basic data processing and answer some questions for 3 data sets. I had 3 data sets:\n",
    "\n",
    "\n",
    "    1. leads.csv. This is a list of fictitious company directors, with some basic data about them and their company.\n",
    "    2. calls.csv. This is a list of fictitious calls made by an outbound call centre. The call centre consists of several agents, who make calls one after the other. They don’t get to choose who to call, the system does. The objective of the call is to get the lead to signup on the website. When they finish a call, they mark down the outcome, from a fixed list of possible outcomes. Note that a single lead may be called multiple times.\n",
    "    3. signups.csv. This is a list of leads who signed up after being called by someone from the call centre. Each signup was risk assessed and either approved or rejected for a loan.\n",
    "\n",
    "I then had some questions I wanted to answer: \n",
    "\n",
    "1.\tWhich agent made the most calls?\n",
    "2.\tFor the leads that received one or more calls, how many calls were received on average?\n",
    "3.\tFor the leads that signed up, how many calls were received, on average?\n",
    "4.\tWhich agent had the most signups? Which assumptions did you make? (note that there is a many-to-one relationship between calls and leads)\n",
    "5.\tWhich agent had the most signups per call?\n",
    "6.\tA lead from which region is most likely to be “interested” in the product?\n",
    "7.\tA lead from which sector is most likely to be “interested” in the product?\n",
    "8.\tGiven a lead has already expressed interest and signed up, \n",
    "a.\tsignups from which region are most likely to be approved?\n",
    "b.\tIs this statistically significant? Why?\n",
    "9.\tSuppose you wanted to pick the 1000 leads most likely to sign up (who have not been called so far), based only on age, sector and region.\n",
    "a.\tWhat criteria would you use to pick those leads?\n",
    "b.\tIn what sense are those an optimal criteria set?\n",
    "c.\tHow many signups would you expect to get based on those called leads, assuming they were being called by random agents?\n",
    "d.\tIf you could choose the agents to make those calls, who would you choose? Why?\n",
    "\n",
    "\n",
    "For this task, I choose to use Python along with pandas, numpy, scipy and statstools.\n",
    "\n",
    "To start off with, I need to read in the csv files, this is easily done with pandas."
   ]
  },
  {
   "cell_type": "code",
   "execution_count": 1,
   "metadata": {},
   "outputs": [],
   "source": [
    "import pandas as pd\n",
    "\n",
    "calls_df = pd.read_csv('calls.csv')\n",
    "leads_df = pd.read_csv('leads.csv')\n",
    "signups_df = pd.read_csv('signups.csv')"
   ]
  },
  {
   "cell_type": "markdown",
   "metadata": {},
   "source": [
    "**Question 1: Which agent made the most calls?**\n",
    " \n",
    "This is easily answered by taking the calls data and looking at the modal value of the agent column"
   ]
  },
  {
   "cell_type": "code",
   "execution_count": 2,
   "metadata": {},
   "outputs": [
    {
     "name": "stdout",
     "output_type": "stream",
     "text": [
      "Phone Number        4.66939e+11\n",
      "Call Outcome    CALL BACK LATER\n",
      "Agent                    orange\n",
      "Call Number                   0\n",
      "Name: 0, dtype: object\n"
     ]
    }
   ],
   "source": [
    "mostCalls = calls_df.mode()\n",
    "print(mostCalls.iloc[0])"
   ]
  },
  {
   "cell_type": "markdown",
   "metadata": {},
   "source": [
    "This gives the answer as Orange\n",
    "\n",
    "**Question 2: For the leads that received one or more calls, how many calls were received on average?**\n",
    "\n",
    "For this question we want to look at our calls data again. \n",
    "\n",
    "We want to exclude the calls that were classed as a 'dead line' as noone received a call here."
   ]
  },
  {
   "cell_type": "code",
   "execution_count": 3,
   "metadata": {},
   "outputs": [],
   "source": [
    "receivedCalls = calls_df[calls_df['Call Outcome'] != 'DEAD LINE']"
   ]
  },
  {
   "cell_type": "markdown",
   "metadata": {},
   "source": [
    "We can then calculate the average amount of calls for the remaining phone numbers"
   ]
  },
  {
   "cell_type": "code",
   "execution_count": 12,
   "metadata": {},
   "outputs": [
    {
     "name": "stdout",
     "output_type": "stream",
     "text": [
      "Average number of calls: 1.893150684931507\n"
     ]
    }
   ],
   "source": [
    "signupCalls = receivedCalls['Phone Number'].value_counts()\n",
    "print(\"Average number of calls: \" + str(signupCalls.mean()))"
   ]
  },
  {
   "cell_type": "markdown",
   "metadata": {},
   "source": [
    "**Question 3 - For the leads that signed up, how many calls were received, on average?**\n",
    "\n",
    "For this question we need to combine our datasets. Before we can do this we need to get the column names to match up - the same data is called Name in one dataset and Lead in another."
   ]
  },
  {
   "cell_type": "code",
   "execution_count": 9,
   "metadata": {},
   "outputs": [],
   "source": [
    "signups_df.columns = ['Name', 'Approval Decision']"
   ]
  },
  {
   "cell_type": "markdown",
   "metadata": {},
   "source": [
    "We can then merge the data:"
   ]
  },
  {
   "cell_type": "code",
   "execution_count": 10,
   "metadata": {},
   "outputs": [],
   "source": [
    "whoCalled = pd.merge(leads_df, signups_df)\n",
    "callsList = pd.merge(whoCalled, calls_df)"
   ]
  },
  {
   "cell_type": "markdown",
   "metadata": {},
   "source": [
    "And take the mean occurance of each phone number:"
   ]
  },
  {
   "cell_type": "code",
   "execution_count": 13,
   "metadata": {},
   "outputs": [
    {
     "name": "stdout",
     "output_type": "stream",
     "text": [
      "Average number of calls: 2.0989583333333335\n"
     ]
    }
   ],
   "source": [
    "callsTotals = callsList['Phone Number'].value_counts()\n",
    "print(\"Average number of calls: \" + str(callsTotals.mean()))"
   ]
  },
  {
   "cell_type": "markdown",
   "metadata": {},
   "source": [
    "**Question 4 - Which agent had the most signups?**\n",
    "\n",
    "For this question we make the assumption that the leads signed up after an ‘interested’ call and the agent who’s call resulted in ‘interested’ deserved the credit for the sign up. \n",
    "\n",
    "We can then look at the occurances of interested and take the modal:"
   ]
  },
  {
   "cell_type": "code",
   "execution_count": 14,
   "metadata": {},
   "outputs": [
    {
     "name": "stdout",
     "output_type": "stream",
     "text": [
      "red       316\n",
      "orange    284\n",
      "green      67\n",
      "blue       52\n",
      "black      49\n",
      "Name: Agent, dtype: int64\n"
     ]
    }
   ],
   "source": [
    "interestedLeads = callsList[callsList['Call Outcome'] == 'INTERESTED']\n",
    "agentCount = interestedLeads['Agent'].value_counts()\n",
    "print(agentCount)"
   ]
  },
  {
   "cell_type": "markdown",
   "metadata": {},
   "source": [
    "The answer is red.\n",
    "\n",
    "**Question 5 - Which agent had the most signups per call? **\n",
    "\n",
    "For this question we need to take the total number of 'interested' calls for each agent (from question 4) and then divide that by the total number of calls they took to get the ratio of signups ber call."
   ]
  },
  {
   "cell_type": "code",
   "execution_count": 15,
   "metadata": {},
   "outputs": [
    {
     "name": "stdout",
     "output_type": "stream",
     "text": [
      "    Agent  Sign Ups  Call Numbers         z\n",
      "0     red       316          1478  0.213802\n",
      "1  orange       284          2234  0.127126\n",
      "2   green        67           339  0.197640\n",
      "3    blue        52           199  0.261307\n",
      "4   black        49           750  0.065333\n"
     ]
    }
   ],
   "source": [
    "totalAgentCalls = calls_df['Agent'].value_counts()\n",
    "agentSignups = pd.DataFrame({'Agent': agentCount.index, 'Sign Ups': agentCount.values})\n",
    "agentCalls = pd.DataFrame({'Agent': totalAgentCalls.index, 'Call Numbers': totalAgentCalls.values})\n",
    "total = pd.merge(agentSignups, agentCalls)\n",
    "total['z'] = total['Sign Ups']/total['Call Numbers']\n",
    "print(total)"
   ]
  },
  {
   "cell_type": "markdown",
   "metadata": {},
   "source": [
    "z gives the signups ratio and from this we can see the agent with the highest signups per call is blue.\n",
    "\n",
    "**Question 6 - A lead from which region is most likely to be “interested” in the product?**\n",
    "\n",
    "For this question we want to look at leads and calls:"
   ]
  },
  {
   "cell_type": "code",
   "execution_count": 16,
   "metadata": {},
   "outputs": [],
   "source": [
    "callsLeadMerge = pd.merge(leads_df, calls_df)"
   ]
  },
  {
   "cell_type": "markdown",
   "metadata": {},
   "source": [
    "We want to take all the 'interested' calls and then take count of the regions:"
   ]
  },
  {
   "cell_type": "code",
   "execution_count": 17,
   "metadata": {},
   "outputs": [
    {
     "name": "stdout",
     "output_type": "stream",
     "text": [
      "north-west          365\n",
      "south-west          161\n",
      "midlands            150\n",
      "north-east          139\n",
      "scotland            137\n",
      "south-east          136\n",
      "south                62\n",
      "london               56\n",
      "wales                50\n",
      "northern-ireland     40\n",
      "Name: Region, dtype: int64\n"
     ]
    }
   ],
   "source": [
    "interested = callsLeadMerge[callsLeadMerge['Call Outcome'] == 'INTERESTED']\n",
    "mostInterestedRegion = interested['Region'].value_counts()\n",
    "print(mostInterestedRegion)"
   ]
  },
  {
   "cell_type": "markdown",
   "metadata": {},
   "source": [
    "Leads from the North-West are most likely to be 'interested' in the product.\n",
    "\n",
    "**Question 7 - A lead from which sector is most likely to be “interested” in the product?**\n",
    "\n",
    "This question follows the same precedure as Question 6:"
   ]
  },
  {
   "cell_type": "code",
   "execution_count": 19,
   "metadata": {},
   "outputs": [
    {
     "name": "stdout",
     "output_type": "stream",
     "text": [
      "consultancy      301\n",
      "retail           290\n",
      "food             261\n",
      "wholesale        233\n",
      "entertainment    135\n",
      "construction      46\n",
      "agriculture       30\n",
      "Name: Sector, dtype: int64\n"
     ]
    }
   ],
   "source": [
    "mostInterestedSector = interested['Sector'].value_counts()\n",
    "print(mostInterestedSector)"
   ]
  },
  {
   "cell_type": "markdown",
   "metadata": {},
   "source": [
    "Giving consultancy as the sector most likely to be interested in the product.\n",
    "\n",
    "**Question 8 a. signups from which region are most likely to be approved?**\n",
    "\n",
    "For this question we want to take a look at all our datasets:"
   ]
  },
  {
   "cell_type": "code",
   "execution_count": 21,
   "metadata": {},
   "outputs": [],
   "source": [
    "callsSignsMerge = pd.merge(callsLeadMerge, signups_df)"
   ]
  },
  {
   "cell_type": "markdown",
   "metadata": {},
   "source": [
    "and then select the data as required:"
   ]
  },
  {
   "cell_type": "code",
   "execution_count": 24,
   "metadata": {},
   "outputs": [
    {
     "name": "stdout",
     "output_type": "stream",
     "text": [
      "north-west          95\n",
      "scotland            37\n",
      "south-east          29\n",
      "midlands            26\n",
      "south-west          25\n",
      "north-east          20\n",
      "south               12\n",
      "northern-ireland     6\n",
      "wales                5\n",
      "london               2\n",
      "Name: Region, dtype: int64\n"
     ]
    }
   ],
   "source": [
    "approved = callsSignsMerge[callsSignsMerge['Approval Decision'] == 'APPROVED']\n",
    "approvedInterested = approved[approved['Call Outcome'] == 'INTERESTED']\n",
    "mostApprovedRegion = approvedInterested['Region'].value_counts()\n",
    "print(mostApprovedRegion)"
   ]
  },
  {
   "cell_type": "markdown",
   "metadata": {},
   "source": [
    "Giving the North-West as the most approved region.\n",
    "\n",
    "**Question 8 b. Is this statistically significant?**\n",
    "\n",
    "This question is more complicated. A great way to model ppredict proabilites of a value being in one of two categories (in this case approved or not approved) is to use a Probit model. "
   ]
  }
 ],
 "metadata": {
  "kernelspec": {
   "display_name": "Python 3",
   "language": "python",
   "name": "python3"
  },
  "language_info": {
   "codemirror_mode": {
    "name": "ipython",
    "version": 3
   },
   "file_extension": ".py",
   "mimetype": "text/x-python",
   "name": "python",
   "nbconvert_exporter": "python",
   "pygments_lexer": "ipython3",
   "version": "3.6.4"
  }
 },
 "nbformat": 4,
 "nbformat_minor": 2
}
